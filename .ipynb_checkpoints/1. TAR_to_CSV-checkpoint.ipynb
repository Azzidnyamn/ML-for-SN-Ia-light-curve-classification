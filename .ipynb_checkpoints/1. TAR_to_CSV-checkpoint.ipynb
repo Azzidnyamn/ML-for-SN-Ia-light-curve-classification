{
 "cells": [
  {
   "cell_type": "code",
   "execution_count": null,
   "id": "45ed46b8-3e36-471e-9415-b40c018d2504",
   "metadata": {},
   "outputs": [],
   "source": [
    "import os\n",
    "import io\n",
    "import gzip\n",
    "import tarfile\n",
    "import warnings\n",
    "\n",
    "import numpy as np\n",
    "import pandas as pd\n",
    "import matplotlib.pyplot as plt\n",
    "\n",
    "from avro.datafile import DataFileReader, DataFileWriter\n",
    "from avro.io import DatumReader, DatumWriter\n",
    "import fastavro\n",
    "\n",
    "#from astropy.time import Time\n",
    "#from astropy.io import fits\n",
    "#import astropy.units as u\n",
    "#import aplpy\n",
    "%matplotlib inline"
   ]
  },
  {
   "cell_type": "code",
   "execution_count": null,
   "id": "87d5a732-7e09-4846-bd13-972dd7f98d51",
   "metadata": {},
   "outputs": [],
   "source": [
    "tar_archive = 'ztf_public_20231215.tar.gz'\n",
    "output_dir = tar_archive.split('/')[-1].split('.')[-3]\n",
    "#archive = tarfile.open(tar_archive,'r:gz')\n",
    "#archive.extractall(path=output_dir)\n",
    "#archive.close()"
   ]
  },
  {
   "cell_type": "code",
   "execution_count": null,
   "id": "c9ec2c16-5fec-499b-94e1-e55e5cbf7b87",
   "metadata": {},
   "outputs": [],
   "source": [
    "def find_files(root_dir):\n",
    "    for dir_name, subdir_list, file_list in os.walk(root_dir, followlinks=True):\n",
    "        for fname in file_list:\n",
    "            if fname.endswith('.avro'):\n",
    "                yield dir_name+'/'+fname\n",
    "print('{} has {} avro files'.format(output_dir, len(list(find_files(output_dir)))))"
   ]
  },
  {
   "cell_type": "code",
   "execution_count": null,
   "id": "85a6cd38-2cfc-455c-80ff-414e9b486744",
   "metadata": {},
   "outputs": [],
   "source": [
    "def open_avro(fname):\n",
    "    with open(fname,'rb') as f:\n",
    "        freader = fastavro.reader(f)\n",
    "        # in principle there can be multiple packets per file\n",
    "        for packet in freader:\n",
    "            yield packet"
   ]
  },
  {
   "cell_type": "code",
   "execution_count": null,
   "id": "38e1bb69-bbeb-4037-a974-1aa3a23df752",
   "metadata": {},
   "outputs": [],
   "source": [
    "def generate_dictionaries(root_dir):\n",
    "    for fname in find_files(root_dir):\n",
    "        for packet in open_avro(fname):\n",
    "            yield packet"
   ]
  },
  {
   "cell_type": "code",
   "execution_count": null,
   "id": "8b3fbabc-3645-4523-b1f9-483f961182ed",
   "metadata": {},
   "outputs": [],
   "source": [
    "%%time\n",
    "from collections import defaultdict\n",
    "programs = defaultdict(int)\n",
    "for packet in generate_dictionaries(output_dir):\n",
    "    programs[packet['candidate']['programid']] += 1\n",
    "print(programs)"
   ]
  },
  {
   "cell_type": "code",
   "execution_count": null,
   "id": "ba83ad57-580a-4dd0-a1fc-36871a028775",
   "metadata": {},
   "outputs": [],
   "source": [
    "def is_alert_pure(packet):\n",
    "    pure = True\n",
    "    pure &= packet['candidate']['rb'] >= 0.65\n",
    "    pure &= packet['candidate']['nbad'] == 0\n",
    "    pure &= packet['candidate']['fwhm'] <= 5\n",
    "    pure &= packet['candidate']['elong'] <= 1.2\n",
    "    pure &= np.abs(packet['candidate']['magdiff']) <= 0.1\n",
    "    return pure"
   ]
  },
  {
   "cell_type": "code",
   "execution_count": null,
   "id": "6f883e32-ccc8-4fb0-8226-d12bd7e566e0",
   "metadata": {},
   "outputs": [],
   "source": [
    "%%time\n",
    "from collections import defaultdict\n",
    "programs = defaultdict(int)\n",
    "for packet in filter(is_alert_pure,generate_dictionaries(output_dir)):\n",
    "    programs[packet['candidate']['programid']] += 1\n",
    "print(programs)"
   ]
  },
  {
   "cell_type": "code",
   "execution_count": null,
   "id": "5ff22875-ef4e-48d7-8a63-c0b7b9fbab9a",
   "metadata": {},
   "outputs": [],
   "source": [
    "def make_dataframe(packet):\n",
    "    dfc = pd.DataFrame(packet['candidate'], index=[0])\n",
    "    df_prv = pd.DataFrame(packet['prv_candidates'])\n",
    "    dflc = pd.concat([dfc,df_prv], ignore_index=True)\n",
    "    # we'll attach some metadata--not this may not be preserved after all operations\n",
    "    # https://stackoverflow.com/questions/14688306/adding-meta-information-metadata-to-pandas-dataframe\n",
    "    dflc.objectId = packet['objectId']\n",
    "    dflc.candid = packet['candid']\n",
    "    return dflc"
   ]
  },
  {
   "cell_type": "code",
   "execution_count": null,
   "id": "415980ff-cc89-41e6-b9f1-0d49d1b9f16d",
   "metadata": {},
   "outputs": [],
   "source": [
    "def is_transient(dflc):\n",
    "    \n",
    "    candidate = dflc.loc[0]\n",
    "    \n",
    "    is_positive_sub = candidate['isdiffpos'] == 't'\n",
    "    \n",
    "    if (candidate['distpsnr1'] is None) or (candidate['distpsnr1'] > 1.5):\n",
    "        no_pointsource_counterpart = True\n",
    "    else:\n",
    "        if candidate['sgscore1'] < 0.5:\n",
    "            no_pointsource_counterpart = True\n",
    "        else:\n",
    "            no_pointsource_counterpart = False\n",
    "            \n",
    "    where_detected = (dflc['isdiffpos'] == 't') # nondetections will be None\n",
    "    if np.sum(where_detected) >= 2:\n",
    "        detection_times = dflc.loc[where_detected,'jd'].values\n",
    "        dt = np.diff(detection_times)\n",
    "        not_moving = np.max(dt) >= (30*u.minute).to(u.day).value\n",
    "    else:\n",
    "        not_moving = False\n",
    "    \n",
    "    no_ssobject = (candidate['ssdistnr'] is None) or (candidate['ssdistnr'] < 0) or (candidate['ssdistnr'] > 5)\n",
    "    \n",
    "    return is_positive_sub and no_pointsource_counterpart and not_moving and no_ssobject"
   ]
  },
  {
   "cell_type": "code",
   "execution_count": null,
   "id": "aa13fcf6-e63d-4915-b386-6a5946c670b8",
   "metadata": {},
   "outputs": [],
   "source": [
    "%%time\n",
    "transient_alerts = []\n",
    "for packet in filter(is_alert_pure,generate_dictionaries(output_dir)):\n",
    "    dflc = make_dataframe(packet)\n",
    "    if is_transient(dflc):\n",
    "        print(packet['objectId'])\n",
    "        transient_alerts.append(packet)\n"
   ]
  },
  {
   "cell_type": "code",
   "execution_count": null,
   "id": "bcdcdc0e-389e-44d3-88e1-eb26d1bae70a",
   "metadata": {},
   "outputs": [],
   "source": [
    "df_transients = pd.DataFrame(transient_alerts)\n",
    "\n",
    "# Mengonversi DataFrame ke dalam file CSV\n",
    "csv_folder_path = r'TA_Azzidny'\n",
    "os.makedirs(csv_folder_path, exist_ok=True)  # Membuat folder jika belum ada\n",
    "\n",
    "csv_file_path = os.path.join(csv_folder_path, f'{output_dir}.csv')\n",
    "df_transients.to_csv(csv_file_path, index=False)\n",
    "\n",
    "print(f'Transient alerts DataFrame saved to {csv_file_path}')"
   ]
  }
 ],
 "metadata": {
  "kernelspec": {
   "display_name": "Python 3",
   "language": "python",
   "name": "python3"
  },
  "language_info": {
   "codemirror_mode": {
    "name": "ipython",
    "version": 3
   },
   "file_extension": ".py",
   "mimetype": "text/x-python",
   "name": "python",
   "nbconvert_exporter": "python",
   "pygments_lexer": "ipython3",
   "version": "3.12.2"
  }
 },
 "nbformat": 4,
 "nbformat_minor": 5
}
